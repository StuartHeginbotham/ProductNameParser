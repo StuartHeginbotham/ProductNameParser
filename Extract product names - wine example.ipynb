{
 "cells": [
  {
   "cell_type": "code",
   "execution_count": 18,
   "metadata": {},
   "outputs": [],
   "source": [
    "#'Sophie Te'blanche Sauvignon Blanc 750ml',\n",
    "\n",
    "myL=[\n",
    "    ('Haute Cabrière Chardonnay Pinot Noir 750ml','http://www.woolworths.co.za/store/cat/Food/Wine-Beer/_/N-1s6qefv','2018/04/29'),\n",
    "    ('Diemersfontein Coffee Pinotage 750ml','http://www.woolworths.co.za/store/cat/Food/Wine-Beer/_/N-1s6qefv','2018/04/29'),\n",
    "    ('Sophie Teblanche Sauvignon Blanc 750ml','http://www.woolworths.co.za/store/cat/Food/Wine-Beer/_/N-1s6qefv','2018/04/29'),\n",
    "    ('Neil Ellis Cool Climate Sauvignon Blanc 750ml','http://www.woolworths.co.za/store/cat/Food/Wine-Beer/_/N-1s6qefv','2018/04/29'),\n",
    "    ('Villiera MCC Brut Rosé 750ml','http://www.woolworths.co.za/store/cat/Food/Wine-Beer/_/N-1s6qefv','2018/04/29'),\n",
    "    ('Dry Red Wine 1L','http://www.woolworths.co.za/store/cat/Food/Wine-Beer/_/N-1s6qefv','2018/04/29'),\n",
    "    ('Longmarket Sauvignon Blanc 750ml','http://www.woolworths.co.za/store/cat/Food/Wine-Beer/_/N-1s6qefv','2018/04/29'),\n",
    "    ('Zesty White 750ml','http://www.woolworths.co.za/store/cat/Food/Wine-Beer/_/N-1s6qefv','2018/04/29'),\n",
    "    ('La Motte Merlot 750ml','http://www.woolworths.co.za/store/cat/Food/Wine-Beer/_/N-1s6qefv','2018/04/29'),\n",
    "    ('Longmarket Merlot 750ml','http://www.woolworths.co.za/store/cat/Food/Wine-Beer/_/N-1s6qefv','2018/04/29'),\n",
    "    ('Diemersdal Sauvignon Blanc 750ml','http://www.woolworths.co.za/store/cat/Food/Wine-Beer/_/N-1s6qefv','2018/04/29')\n",
    "]"
   ]
  },
  {
   "cell_type": "code",
   "execution_count": 19,
   "metadata": {},
   "outputs": [],
   "source": [
    "import pandas as pd\n",
    "myDF=pd.DataFrame(myL)\n",
    "myDF.columns=['wine_descr','source_url','date_logged']"
   ]
  },
  {
   "cell_type": "code",
   "execution_count": 23,
   "metadata": {},
   "outputs": [],
   "source": [
    "myDF['date_logged']=pd.to_datetime(myDF['date_logged'])"
   ]
  },
  {
   "cell_type": "code",
   "execution_count": 28,
   "metadata": {},
   "outputs": [],
   "source": [
    "myDF['source_url']=myDF['source_url'].map(lambda x:x.split('.')[1])"
   ]
  },
  {
   "cell_type": "code",
   "execution_count": 93,
   "metadata": {},
   "outputs": [],
   "source": [
    "#scan for numbers (could be pack size, units measure of occasionally actual description)\n",
    "#scan for units of measure as words and their abbreviations (ml,ML,L,l,litre)\n",
    "\n",
    "import re\n",
    "p=re.compile('(\\d+)([ml]+|[L])')\n",
    "\n",
    "myDF['nounits_descr']=myDF['wine_descr'].map(lambda x:x[0:p.search(x).start()].rstrip()) #assuming units at the end\n",
    "myDF['units']=myDF['wine_descr'].map(lambda x: p.search(x)[1])\n",
    "myDF['measure']=myDF['wine_descr'].map(lambda x:p.search(x)[2])\n",
    "#re.extractall('d+[ml]|[L]','Haute Cabrière Chardonnay Pinot Noir 750ml')"
   ]
  },
  {
   "cell_type": "code",
   "execution_count": 103,
   "metadata": {},
   "outputs": [
    {
     "data": {
      "text/plain": [
       "'Haute Cabrière Chardonnay Pinot Noir Diemersfontein Coffee Pinotage Sophie Teblanche Sauvignon Blanc Neil Ellis Cool Climate Sauvignon Blanc Villiera MCC Brut Rosé Dry Red Wine Longmarket Sauvignon Blanc Zesty White La Motte Merlot Longmarket Merlot Diemersdal Sauvignon Blanc '"
      ]
     },
     "execution_count": 103,
     "metadata": {},
     "output_type": "execute_result"
    }
   ],
   "source": [
    "s=''\n",
    "for i,r in myDF.iterrows():\n",
    "    s=(s+r['nounits_descr']+' ')\n",
    "    \n",
    "s"
   ]
  },
  {
   "cell_type": "code",
   "execution_count": 104,
   "metadata": {
    "collapsed": true
   },
   "outputs": [],
   "source": [
    "from nltk import *"
   ]
  },
  {
   "cell_type": "code",
   "execution_count": 105,
   "metadata": {},
   "outputs": [
    {
     "data": {
      "text/plain": [
       "[('Sauvignon', 4),\n",
       " ('Blanc', 4),\n",
       " ('Longmarket', 2),\n",
       " ('Merlot', 2),\n",
       " ('Haute', 1),\n",
       " ('Cabrière', 1),\n",
       " ('Chardonnay', 1),\n",
       " ('Pinot', 1),\n",
       " ('Noir', 1),\n",
       " ('Diemersfontein', 1),\n",
       " ('Coffee', 1),\n",
       " ('Pinotage', 1),\n",
       " ('Sophie', 1),\n",
       " ('Teblanche', 1),\n",
       " ('Neil', 1),\n",
       " ('Ellis', 1),\n",
       " ('Cool', 1),\n",
       " ('Climate', 1),\n",
       " ('Villiera', 1),\n",
       " ('MCC', 1),\n",
       " ('Brut', 1),\n",
       " ('Rosé', 1),\n",
       " ('Dry', 1),\n",
       " ('Red', 1),\n",
       " ('Wine', 1),\n",
       " ('Zesty', 1),\n",
       " ('White', 1),\n",
       " ('La', 1),\n",
       " ('Motte', 1),\n",
       " ('Diemersdal', 1)]"
      ]
     },
     "execution_count": 105,
     "metadata": {},
     "output_type": "execute_result"
    }
   ],
   "source": [
    "def top_words(myS):\n",
    "    d = FreqDist(myS)\n",
    "    myL=[]\n",
    "    for w in sorted(d, key=d.get, reverse=True):\n",
    "        myL.append((w, d[w]))\n",
    "    return myL\n",
    "\n",
    "top_words(s.split())"
   ]
  },
  {
   "cell_type": "code",
   "execution_count": null,
   "metadata": {
    "collapsed": true
   },
   "outputs": [],
   "source": []
  }
 ],
 "metadata": {
  "kernelspec": {
   "display_name": "Python 3",
   "language": "python",
   "name": "python3"
  },
  "language_info": {
   "codemirror_mode": {
    "name": "ipython",
    "version": 3
   },
   "file_extension": ".py",
   "mimetype": "text/x-python",
   "name": "python",
   "nbconvert_exporter": "python",
   "pygments_lexer": "ipython3",
   "version": "3.6.3"
  }
 },
 "nbformat": 4,
 "nbformat_minor": 2
}
